{
 "cells": [
  {
   "cell_type": "code",
   "execution_count": 1,
   "id": "4398c69f-ede3-4ec6-8703-886a7404bd37",
   "metadata": {},
   "outputs": [],
   "source": [
    "import numpy as np\n",
    "from scipy import signal\n",
    "import matplotlib.pyplot as plt\n",
    "from pythonosc.osc_server import BlockingOSCUDPServer\n",
    "from pythonosc.dispatcher import Dispatcher\n",
    "from pythonosc.udp_client import SimpleUDPClient\n",
    "import struct"
   ]
  },
  {
   "cell_type": "code",
   "execution_count": 2,
   "id": "f79c5f22-4c69-49ab-8e5f-25d970ae459f",
   "metadata": {},
   "outputs": [],
   "source": [
    "ip = '127.0.0.1'\n",
    "receive_port = 2323\n",
    "send_port = 7531"
   ]
  },
  {
   "cell_type": "code",
   "execution_count": 3,
   "id": "c91b07f7-264f-439e-85c6-38fc15928302",
   "metadata": {},
   "outputs": [],
   "source": [
    "class DataBlock:\n",
    "    \n",
    "    def __init__(self, n_rows, n_cols):\n",
    "        self.data = np.zeros((n_rows, n_cols))\n",
    "        \n",
    "    def data_handler(self, address, byte_array):\n",
    "        \n",
    "        float_list = struct.unpack(self.data.size*'f', byte_array)\n",
    "        self.data = np.array(float_list).reshape(*self.data.shape)\n",
    "        \n",
    "def default_handler(address, *args):\n",
    "    print(f'DEFAULT {address}: {args}')"
   ]
  },
  {
   "cell_type": "code",
   "execution_count": 4,
   "id": "38b168ac-970a-40f8-bb71-0e9ca027fb9e",
   "metadata": {},
   "outputs": [],
   "source": [
    "# Instantiate dispatcher\n",
    "dispatcher = Dispatcher()\n",
    "\n",
    "# Setup data class. Make sure the size matches the\n",
    "data_block = DataBlock(3, 256)\n",
    "\n",
    "# Map handler functions to message types\n",
    "dispatcher.map('/eeg', data_block.data_handler)\n",
    "dispatcher.set_default_handler(default_handler)\n",
    "\n",
    "# Setup server and client\n",
    "server = BlockingOSCUDPServer((ip, receive_port), dispatcher)\n",
    "client = SimpleUDPClient(ip, send_port)\n",
    "\n",
    "# Read 20 blocks\n",
    "for i in range(20):\n",
    "    server.handle_request()\n",
    "    # Do something with data_block.data here\n",
    "\n",
    "# Example message send\n",
    "client.send_message(\"/number\", 1)"
   ]
  }
 ],
 "metadata": {
  "kernelspec": {
   "display_name": "Python 3",
   "language": "python",
   "name": "python3"
  },
  "language_info": {
   "codemirror_mode": {
    "name": "ipython",
    "version": 3
   },
   "file_extension": ".py",
   "mimetype": "text/x-python",
   "name": "python",
   "nbconvert_exporter": "python",
   "pygments_lexer": "ipython3",
   "version": "3.8.8"
  }
 },
 "nbformat": 4,
 "nbformat_minor": 5
}
