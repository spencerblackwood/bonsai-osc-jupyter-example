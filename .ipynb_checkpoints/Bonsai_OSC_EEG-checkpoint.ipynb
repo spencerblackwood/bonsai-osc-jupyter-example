{
 "cells": [
  {
   "cell_type": "code",
   "execution_count": 1,
   "id": "4398c69f-ede3-4ec6-8703-886a7404bd37",
   "metadata": {},
   "outputs": [],
   "source": [
    "import numpy as np\n",
    "from pythonosc.osc_server import BlockingOSCUDPServer\n",
    "from pythonosc.dispatcher import Dispatcher\n",
    "from pythonosc.udp_client import SimpleUDPClient\n",
    "import struct"
   ]
  },
  {
   "cell_type": "markdown",
   "id": "d37ebc42-af74-4665-a685-d2b6802569af",
   "metadata": {},
   "source": [
    "# Python OSC Example\n",
    "\n",
    "This notebook reads EEG data in real time from Bonsai using python-osc. Documentation for python-osc can be found at https://python-osc.readthedocs.io/en/latest/.\n",
    "\n",
    "To change the type of data being received, write your own handler function and use struct.unpack()"
   ]
  },
  {
   "cell_type": "code",
   "execution_count": 2,
   "id": "f79c5f22-4c69-49ab-8e5f-25d970ae459f",
   "metadata": {},
   "outputs": [],
   "source": [
    "# Port names\n",
    "ip = '127.0.0.1'\n",
    "receive_port = 2323\n",
    "send_port = 7531\n",
    "\n",
    "# Make sure the expected data shape matches the OpenCV matrix size\n",
    "data_shape = (3, 256)"
   ]
  },
  {
   "cell_type": "code",
   "execution_count": 3,
   "id": "c91b07f7-264f-439e-85c6-38fc15928302",
   "metadata": {},
   "outputs": [],
   "source": [
    "# This class packages together the data and handler function\n",
    "class DataBlock:\n",
    "    \n",
    "    def __init__(self, n_rows, n_cols):\n",
    "        self.data = np.zeros((n_rows, n_cols))\n",
    "    \n",
    "    # This is the handler function that will be called for each message\n",
    "    def data_handler(self, address, byte_array):\n",
    "        \n",
    "        float_list = struct.unpack(self.data.size*'f', byte_array)\n",
    "        self.data = np.array(float_list).reshape(*self.data.shape)\n",
    "\n",
    "# The default handler prints unhandled messages\n",
    "def default_handler(address, *args):\n",
    "    print(f'DEFAULT {address}: {args}')"
   ]
  },
  {
   "cell_type": "code",
   "execution_count": 4,
   "id": "38b168ac-970a-40f8-bb71-0e9ca027fb9e",
   "metadata": {},
   "outputs": [
    {
     "ename": "NameError",
     "evalue": "name 'datablock' is not defined",
     "output_type": "error",
     "traceback": [
      "\u001b[1;31m---------------------------------------------------------------------------\u001b[0m",
      "\u001b[1;31mNameError\u001b[0m                                 Traceback (most recent call last)",
      "\u001b[1;32m<ipython-input-4-7a8ff402f2f3>\u001b[0m in \u001b[0;36m<module>\u001b[1;34m\u001b[0m\n\u001b[0;32m     17\u001b[0m     \u001b[0mserver\u001b[0m\u001b[1;33m.\u001b[0m\u001b[0mhandle_request\u001b[0m\u001b[1;33m(\u001b[0m\u001b[1;33m)\u001b[0m\u001b[1;33m\u001b[0m\u001b[1;33m\u001b[0m\u001b[0m\n\u001b[0;32m     18\u001b[0m     \u001b[1;31m# Do something with data_block.data here\u001b[0m\u001b[1;33m\u001b[0m\u001b[1;33m\u001b[0m\u001b[1;33m\u001b[0m\u001b[0m\n\u001b[1;32m---> 19\u001b[1;33m     \u001b[0mprint\u001b[0m\u001b[1;33m(\u001b[0m\u001b[0mnp\u001b[0m\u001b[1;33m.\u001b[0m\u001b[0mmean\u001b[0m\u001b[1;33m(\u001b[0m\u001b[0mdatablock\u001b[0m\u001b[1;33m.\u001b[0m\u001b[0mdata\u001b[0m\u001b[1;33m)\u001b[0m\u001b[1;33m)\u001b[0m\u001b[1;33m\u001b[0m\u001b[1;33m\u001b[0m\u001b[0m\n\u001b[0m\u001b[0;32m     20\u001b[0m \u001b[1;33m\u001b[0m\u001b[0m\n\u001b[0;32m     21\u001b[0m \u001b[1;31m# Example message send\u001b[0m\u001b[1;33m\u001b[0m\u001b[1;33m\u001b[0m\u001b[1;33m\u001b[0m\u001b[0m\n",
      "\u001b[1;31mNameError\u001b[0m: name 'datablock' is not defined"
     ]
    }
   ],
   "source": [
    "# Instantiate dispatcher\n",
    "dispatcher = Dispatcher()\n",
    "\n",
    "# Setup DataBlock class\n",
    "data_block = DataBlock(*data_shape)\n",
    "\n",
    "# Map handler functions to message types\n",
    "dispatcher.map('/eeg', data_block.data_handler)\n",
    "dispatcher.set_default_handler(default_handler)\n",
    "\n",
    "# Setup server and client\n",
    "server = BlockingOSCUDPServer((ip, receive_port), dispatcher)\n",
    "client = SimpleUDPClient(ip, send_port)\n",
    "\n",
    "# Read 20 blocks\n",
    "for i in range(20):\n",
    "    server.handle_request()\n",
    "    # Real-time plotting in Jupyter is hard. Do something here to verify data is being received.\n",
    "    # print(np.mean(data_block.data))\n",
    "\n",
    "# Example message send\n",
    "client.send_message(\"/number\", 1)"
   ]
  }
 ],
 "metadata": {
  "kernelspec": {
   "display_name": "Python 3",
   "language": "python",
   "name": "python3"
  },
  "language_info": {
   "codemirror_mode": {
    "name": "ipython",
    "version": 3
   },
   "file_extension": ".py",
   "mimetype": "text/x-python",
   "name": "python",
   "nbconvert_exporter": "python",
   "pygments_lexer": "ipython3",
   "version": "3.8.8"
  }
 },
 "nbformat": 4,
 "nbformat_minor": 5
}
